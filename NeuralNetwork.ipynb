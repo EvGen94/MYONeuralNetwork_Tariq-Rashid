{
 "cells": [
  {
   "cell_type": "code",
   "execution_count": null,
   "metadata": {},
   "outputs": [],
   "source": [
    "import numpy\n",
    "import scipy.special\n",
    "import matplotlib.pyplot\n",
    "%matplotlib inline"
   ]
  },
  {
   "cell_type": "code",
   "execution_count": null,
   "metadata": {},
   "outputs": [],
   "source": [
    "class neuralNetwork:\n",
    "    \n",
    "    # neural network initialization\n",
    "    def __init__(self, inputnodes, hiddennodes, outputnodes, learningrate):\n",
    "        \n",
    "        self.inodes = inputnodes\n",
    "        self.hnodes = hiddennodes\n",
    "        self.onodes = outputnodes\n",
    "        self.lr = learningrate\n",
    "        \n",
    "        #self.wih = (numpy.random.rand(self.hnodes, self.inodes)- 0.5)\n",
    "        #self.who = (numpy.random.rand(self.onodes, self.hnodes)- 0.5)\n",
    "        \n",
    "        self.wih = numpy.random.normal(0.0, pow(self.inodes, -0.5), (self.hnodes, self.inodes))\n",
    "        self.who = numpy.random.normal(0.0, pow(self.hnodes, -0.5), (self.onodes, self.hnodes))\n",
    "\n",
    "        # using the sigmoid as an activation function   \n",
    "        self.activation_function = lambda x: scipy.special.expit(x)\n",
    "        \n",
    "        pass\n",
    "    \n",
    "    # neural network training\n",
    "    def train(self, inputs_list, targets_list):\n",
    "        \n",
    "        # convert the input list to a two-dimensional array\n",
    "        inputs = numpy.array(inputs_list, ndmin=2).T\n",
    "        targets = numpy.array(targets_list, ndmin=2).T\n",
    "        # calculation of inputs signals for the hidden layer\n",
    "        hidden_inputs = numpy.dot(self.wih, inputs)\n",
    "        # calculation of outputs signals for the hidden layer\n",
    "        hidden_outputs = self.activation_function(hidden_inputs) \n",
    "        # calculation of inputs signals for the output layer\n",
    "        final_inputs = numpy.dot(self.who, hidden_outputs)  \n",
    "        # calculation of outputs signals for the output layer\n",
    "        final_outputs = self.activation_function(final_inputs)\n",
    "        \n",
    "        # output layer error = (target value - actual value) \n",
    "        output_errors = targets - final_outputs\n",
    "        # hidden layer error \n",
    "        hidden_errors = numpy.dot(self.who.T, output_errors)\n",
    "        \n",
    "        # obnovit vesovie kof dlya svyazeiy for hidden and outputs layer\n",
    "        self.who += self.lr * numpy.dot((output_errors * final_outputs * (1.0 - final_outputs)),\n",
    "                                        numpy.transpose(hidden_outputs))\n",
    "        \n",
    "        # obnovit vesovie kof dlya svyazeiy for input and hidden layer\n",
    "       \n",
    "        self.wih += self.lr * numpy.dot((hidden_errors * hidden_outputs * (1.0 - hidden_outputs)),\n",
    "                                        numpy.transpose(inputs))\n",
    "        \n",
    "        pass\n",
    "    \n",
    "    # neural network query():\n",
    "    def query(self, inputs_list):\n",
    "        \n",
    "        # convert the input list to a two-dimensional array\n",
    "        inputs = numpy.array(inputs_list, ndmin=2).T\n",
    "        # calculation of inputs signals for the hidden layer\n",
    "        hidden_inputs = numpy.dot(self.wih, inputs)   \n",
    "        # calculation of outputs signals for the hidden layer\n",
    "        hidden_outputs = self.activation_function(hidden_inputs)   \n",
    "        # calculation of inputs signals for the output layer\n",
    "        final_inputs = numpy.dot(self.who, hidden_outputs)       \n",
    "        # calculation of outputs signals for the output layer\n",
    "        final_outputs = self.activation_function(final_inputs)\n",
    "        \n",
    "        return final_outputs\n",
    "        \n",
    "        pass\n",
    "    "
   ]
  },
  {
   "cell_type": "code",
   "execution_count": null,
   "metadata": {},
   "outputs": [],
   "source": [
    "input_nodes = 784\n",
    "hidden_nodes = 100\n",
    "output_nodes = 10\n",
    "learning_rate = 0.3\n",
    "n = neuralNetwork(input_nodes,hidden_nodes,output_nodes,learning_rate)"
   ]
  },
  {
   "cell_type": "code",
   "execution_count": null,
   "metadata": {},
   "outputs": [],
   "source": [
    "traning_data_file = open(\"mnist_train.csv\", 'r')\n",
    "traning_data_list = traning_data_file.readlines()\n",
    "traning_data_file.close()\n",
    "#traning_data_list[0]"
   ]
  },
  {
   "cell_type": "code",
   "execution_count": null,
   "metadata": {},
   "outputs": [],
   "source": [
    "# Training !!!\n",
    "epochs = 2\n",
    "for e in range(epochs):\n",
    "\n",
    "    for record in traning_data_list:\n",
    "        all_values = record.split(',')\n",
    "        inputs = (numpy.asfarray(all_values[1:])/ 255.0 *0.99) + 0.01\n",
    "        targets = numpy.zeros(output_nodes) + 0.01\n",
    "        targets[int(all_values[0])] = 0.99\n",
    "        n.train(inputs, targets)\n",
    "        pass\n",
    "pass    "
   ]
  },
  {
   "cell_type": "code",
   "execution_count": null,
   "metadata": {},
   "outputs": [],
   "source": [
    "# Testing !!!\n",
    "test_data_file = open(\"mnist_test.csv\", 'r')\n",
    "test_data_list = test_data_file.readlines()\n",
    "test_data_file.close()\n",
    "test_data_list[0]"
   ]
  },
  {
   "cell_type": "code",
   "execution_count": null,
   "metadata": {},
   "outputs": [],
   "source": [
    "all_values = test_data_list[0].split(',')\n",
    "print(all_values[0])\n"
   ]
  },
  {
   "cell_type": "code",
   "execution_count": null,
   "metadata": {},
   "outputs": [],
   "source": [
    "image_array = numpy.asfarray(all_values[1:]).reshape((28,28))\n",
    "matplotlib.pyplot.imshow(image_array, cmap='Greys',interpolation='None')"
   ]
  },
  {
   "cell_type": "code",
   "execution_count": null,
   "metadata": {},
   "outputs": [],
   "source": [
    "n.query((numpy.asfarray(all_values[1:])/255.0 * 0.99) +0.01)"
   ]
  },
  {
   "cell_type": "code",
   "execution_count": null,
   "metadata": {},
   "outputs": [],
   "source": [
    "# Testing in the loop \n",
    "scorecard = []\n",
    "\n",
    "for record in test_data_list:\n",
    "    all_values = record.split(',')\n",
    "    #right answer - first value \n",
    "    correct_label = int(all_values[0])\n",
    "    #print(correct_label, \"true label\")\n",
    "    inputs = (numpy.asfarray(all_values[1:])/ 255.0 * 0.99) + 0.01\n",
    "    outputs = n.query(inputs)\n",
    "    label = numpy.argmax  (outputs)\n",
    "    #print(label, \"network response\") \n",
    "    if (label==correct_label):\n",
    "        scorecard.append(1)\n",
    "    else:\n",
    "        scorecard.append(0)\n",
    "        pass\n",
    "    pass\n",
    "        "
   ]
  },
  {
   "cell_type": "code",
   "execution_count": null,
   "metadata": {},
   "outputs": [],
   "source": [
    "scorecard_array = numpy.asarray(scorecard)\n",
    "print(\"efficiency = \",scorecard_array.sum() / scorecard_array.size) # share of correct answers\n"
   ]
  },
  {
   "cell_type": "code",
   "execution_count": null,
   "metadata": {},
   "outputs": [],
   "source": [
    "# check out my own numbers \n",
    "import scipy.misc\n",
    "#img_array = imageio.imread(\"1.png\", flatten = True) "
   ]
  }
 ],
 "metadata": {
  "kernelspec": {
   "display_name": "Python 3",
   "language": "python",
   "name": "python3"
  },
  "language_info": {
   "codemirror_mode": {
    "name": "ipython",
    "version": 3
   },
   "file_extension": ".py",
   "mimetype": "text/x-python",
   "name": "python",
   "nbconvert_exporter": "python",
   "pygments_lexer": "ipython3",
   "version": "3.7.3"
  }
 },
 "nbformat": 4,
 "nbformat_minor": 2
}
